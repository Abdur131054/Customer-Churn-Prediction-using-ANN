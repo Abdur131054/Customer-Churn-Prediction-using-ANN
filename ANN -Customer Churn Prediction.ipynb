{
 "cells": [
  {
   "cell_type": "code",
   "execution_count": 2,
   "id": "51607011",
   "metadata": {},
   "outputs": [
    {
     "name": "stdout",
     "output_type": "stream",
     "text": [
      "2.11.0\n"
     ]
    }
   ],
   "source": [
    "#importing necessary libraries\n",
    "import tensorflow as tf\n",
    "from tensorflow import keras\n",
    "from tensorflow.keras import layers\n",
    "from tensorflow.keras import Sequential\n",
    "from tensorflow.keras.layers import Dense\n",
    "print(tf.__version__)"
   ]
  },
  {
   "cell_type": "code",
   "execution_count": 3,
   "id": "b682a525",
   "metadata": {},
   "outputs": [],
   "source": [
    "#importing necessary libraries\n",
    "import numpy as np\n",
    "import pandas as pd\n",
    "import matplotlib.pyplot as plt \n",
    "import seaborn as sns \n",
    "%matplotlib inline\n",
    "from sklearn.model_selection import train_test_split\n",
    "from sklearn.preprocessing import StandardScaler"
   ]
  },
  {
   "cell_type": "code",
   "execution_count": 4,
   "id": "122c10bb",
   "metadata": {},
   "outputs": [],
   "source": [
    "#reading/importing sv file \n",
    "df=pd.read_csv(r'Churn_Modelling.csv')"
   ]
  },
  {
   "cell_type": "code",
   "execution_count": 5,
   "id": "e3e44b8e",
   "metadata": {},
   "outputs": [
    {
     "data": {
      "text/html": [
       "<div>\n",
       "<style scoped>\n",
       "    .dataframe tbody tr th:only-of-type {\n",
       "        vertical-align: middle;\n",
       "    }\n",
       "\n",
       "    .dataframe tbody tr th {\n",
       "        vertical-align: top;\n",
       "    }\n",
       "\n",
       "    .dataframe thead th {\n",
       "        text-align: right;\n",
       "    }\n",
       "</style>\n",
       "<table border=\"1\" class=\"dataframe\">\n",
       "  <thead>\n",
       "    <tr style=\"text-align: right;\">\n",
       "      <th></th>\n",
       "      <th>RowNumber</th>\n",
       "      <th>CustomerId</th>\n",
       "      <th>Surname</th>\n",
       "      <th>CreditScore</th>\n",
       "      <th>Geography</th>\n",
       "      <th>Gender</th>\n",
       "      <th>Age</th>\n",
       "      <th>Tenure</th>\n",
       "      <th>Balance</th>\n",
       "      <th>NumOfProducts</th>\n",
       "      <th>HasCrCard</th>\n",
       "      <th>IsActiveMember</th>\n",
       "      <th>EstimatedSalary</th>\n",
       "      <th>Exited</th>\n",
       "    </tr>\n",
       "  </thead>\n",
       "  <tbody>\n",
       "    <tr>\n",
       "      <th>0</th>\n",
       "      <td>1</td>\n",
       "      <td>15634602</td>\n",
       "      <td>Hargrave</td>\n",
       "      <td>619</td>\n",
       "      <td>France</td>\n",
       "      <td>Female</td>\n",
       "      <td>42</td>\n",
       "      <td>2</td>\n",
       "      <td>0.00</td>\n",
       "      <td>1</td>\n",
       "      <td>1</td>\n",
       "      <td>1</td>\n",
       "      <td>101348.88</td>\n",
       "      <td>1</td>\n",
       "    </tr>\n",
       "    <tr>\n",
       "      <th>1</th>\n",
       "      <td>2</td>\n",
       "      <td>15647311</td>\n",
       "      <td>Hill</td>\n",
       "      <td>608</td>\n",
       "      <td>Spain</td>\n",
       "      <td>Female</td>\n",
       "      <td>41</td>\n",
       "      <td>1</td>\n",
       "      <td>83807.86</td>\n",
       "      <td>1</td>\n",
       "      <td>0</td>\n",
       "      <td>1</td>\n",
       "      <td>112542.58</td>\n",
       "      <td>0</td>\n",
       "    </tr>\n",
       "    <tr>\n",
       "      <th>2</th>\n",
       "      <td>3</td>\n",
       "      <td>15619304</td>\n",
       "      <td>Onio</td>\n",
       "      <td>502</td>\n",
       "      <td>France</td>\n",
       "      <td>Female</td>\n",
       "      <td>42</td>\n",
       "      <td>8</td>\n",
       "      <td>159660.80</td>\n",
       "      <td>3</td>\n",
       "      <td>1</td>\n",
       "      <td>0</td>\n",
       "      <td>113931.57</td>\n",
       "      <td>1</td>\n",
       "    </tr>\n",
       "    <tr>\n",
       "      <th>3</th>\n",
       "      <td>4</td>\n",
       "      <td>15701354</td>\n",
       "      <td>Boni</td>\n",
       "      <td>699</td>\n",
       "      <td>France</td>\n",
       "      <td>Female</td>\n",
       "      <td>39</td>\n",
       "      <td>1</td>\n",
       "      <td>0.00</td>\n",
       "      <td>2</td>\n",
       "      <td>0</td>\n",
       "      <td>0</td>\n",
       "      <td>93826.63</td>\n",
       "      <td>0</td>\n",
       "    </tr>\n",
       "    <tr>\n",
       "      <th>4</th>\n",
       "      <td>5</td>\n",
       "      <td>15737888</td>\n",
       "      <td>Mitchell</td>\n",
       "      <td>850</td>\n",
       "      <td>Spain</td>\n",
       "      <td>Female</td>\n",
       "      <td>43</td>\n",
       "      <td>2</td>\n",
       "      <td>125510.82</td>\n",
       "      <td>1</td>\n",
       "      <td>1</td>\n",
       "      <td>1</td>\n",
       "      <td>79084.10</td>\n",
       "      <td>0</td>\n",
       "    </tr>\n",
       "  </tbody>\n",
       "</table>\n",
       "</div>"
      ],
      "text/plain": [
       "   RowNumber  CustomerId   Surname  CreditScore Geography  Gender  Age  \\\n",
       "0          1    15634602  Hargrave          619    France  Female   42   \n",
       "1          2    15647311      Hill          608     Spain  Female   41   \n",
       "2          3    15619304      Onio          502    France  Female   42   \n",
       "3          4    15701354      Boni          699    France  Female   39   \n",
       "4          5    15737888  Mitchell          850     Spain  Female   43   \n",
       "\n",
       "   Tenure    Balance  NumOfProducts  HasCrCard  IsActiveMember  \\\n",
       "0       2       0.00              1          1               1   \n",
       "1       1   83807.86              1          0               1   \n",
       "2       8  159660.80              3          1               0   \n",
       "3       1       0.00              2          0               0   \n",
       "4       2  125510.82              1          1               1   \n",
       "\n",
       "   EstimatedSalary  Exited  \n",
       "0        101348.88       1  \n",
       "1        112542.58       0  \n",
       "2        113931.57       1  \n",
       "3         93826.63       0  \n",
       "4         79084.10       0  "
      ]
     },
     "execution_count": 5,
     "metadata": {},
     "output_type": "execute_result"
    }
   ],
   "source": [
    "#checking overview of the data \n",
    "df.head()"
   ]
  },
  {
   "cell_type": "code",
   "execution_count": 6,
   "id": "d49fee36",
   "metadata": {},
   "outputs": [
    {
     "data": {
      "text/plain": [
       "Smith       32\n",
       "Scott       29\n",
       "Martin      29\n",
       "Walker      28\n",
       "Brown       26\n",
       "            ..\n",
       "Izmailov     1\n",
       "Bold         1\n",
       "Bonham       1\n",
       "Poninski     1\n",
       "Burbidge     1\n",
       "Name: Surname, Length: 2932, dtype: int64"
      ]
     },
     "execution_count": 6,
     "metadata": {},
     "output_type": "execute_result"
    }
   ],
   "source": [
    "df['Surname'].value_counts()"
   ]
  },
  {
   "cell_type": "code",
   "execution_count": 7,
   "id": "005adb52",
   "metadata": {},
   "outputs": [
    {
     "data": {
      "text/plain": [
       "2932"
      ]
     },
     "execution_count": 7,
     "metadata": {},
     "output_type": "execute_result"
    }
   ],
   "source": [
    "df['Surname'].nunique()"
   ]
  },
  {
   "cell_type": "code",
   "execution_count": 8,
   "id": "0139319b",
   "metadata": {},
   "outputs": [],
   "source": [
    "#dropping some unnecessary data\n",
    "df.drop(columns=['RowNumber', 'CustomerId','Surname'],inplace=True)"
   ]
  },
  {
   "cell_type": "code",
   "execution_count": 9,
   "id": "d93d581c",
   "metadata": {},
   "outputs": [
    {
     "data": {
      "text/html": [
       "<div>\n",
       "<style scoped>\n",
       "    .dataframe tbody tr th:only-of-type {\n",
       "        vertical-align: middle;\n",
       "    }\n",
       "\n",
       "    .dataframe tbody tr th {\n",
       "        vertical-align: top;\n",
       "    }\n",
       "\n",
       "    .dataframe thead th {\n",
       "        text-align: right;\n",
       "    }\n",
       "</style>\n",
       "<table border=\"1\" class=\"dataframe\">\n",
       "  <thead>\n",
       "    <tr style=\"text-align: right;\">\n",
       "      <th></th>\n",
       "      <th>CreditScore</th>\n",
       "      <th>Geography</th>\n",
       "      <th>Gender</th>\n",
       "      <th>Age</th>\n",
       "      <th>Tenure</th>\n",
       "      <th>Balance</th>\n",
       "      <th>NumOfProducts</th>\n",
       "      <th>HasCrCard</th>\n",
       "      <th>IsActiveMember</th>\n",
       "      <th>EstimatedSalary</th>\n",
       "      <th>Exited</th>\n",
       "    </tr>\n",
       "  </thead>\n",
       "  <tbody>\n",
       "    <tr>\n",
       "      <th>0</th>\n",
       "      <td>619</td>\n",
       "      <td>France</td>\n",
       "      <td>Female</td>\n",
       "      <td>42</td>\n",
       "      <td>2</td>\n",
       "      <td>0.0</td>\n",
       "      <td>1</td>\n",
       "      <td>1</td>\n",
       "      <td>1</td>\n",
       "      <td>101348.88</td>\n",
       "      <td>1</td>\n",
       "    </tr>\n",
       "  </tbody>\n",
       "</table>\n",
       "</div>"
      ],
      "text/plain": [
       "   CreditScore Geography  Gender  Age  Tenure  Balance  NumOfProducts  \\\n",
       "0          619    France  Female   42       2      0.0              1   \n",
       "\n",
       "   HasCrCard  IsActiveMember  EstimatedSalary  Exited  \n",
       "0          1               1        101348.88       1  "
      ]
     },
     "execution_count": 9,
     "metadata": {},
     "output_type": "execute_result"
    }
   ],
   "source": [
    "df.head(1)"
   ]
  },
  {
   "cell_type": "markdown",
   "id": "6839111c",
   "metadata": {},
   "source": [
    "Here is two categorical columns those we need to encode"
   ]
  },
  {
   "cell_type": "code",
   "execution_count": 10,
   "id": "64050ed1",
   "metadata": {},
   "outputs": [
    {
     "name": "stdout",
     "output_type": "stream",
     "text": [
      "France     5014\n",
      "Germany    2509\n",
      "Spain      2477\n",
      "Name: Geography, dtype: int64\n",
      "Male      5457\n",
      "Female    4543\n",
      "Name: Gender, dtype: int64\n"
     ]
    }
   ],
   "source": [
    "#checking value counts of two categorical variables\n",
    "print (df['Geography'].value_counts())\n",
    "print (df['Gender'].value_counts())\n"
   ]
  },
  {
   "cell_type": "code",
   "execution_count": 11,
   "id": "07927233",
   "metadata": {},
   "outputs": [],
   "source": [
    "#encoding two categorical variables \n",
    "df= pd.get_dummies(df, columns=['Geography','Gender'], drop_first= True)"
   ]
  },
  {
   "cell_type": "code",
   "execution_count": 12,
   "id": "da341317",
   "metadata": {},
   "outputs": [
    {
     "data": {
      "text/html": [
       "<div>\n",
       "<style scoped>\n",
       "    .dataframe tbody tr th:only-of-type {\n",
       "        vertical-align: middle;\n",
       "    }\n",
       "\n",
       "    .dataframe tbody tr th {\n",
       "        vertical-align: top;\n",
       "    }\n",
       "\n",
       "    .dataframe thead th {\n",
       "        text-align: right;\n",
       "    }\n",
       "</style>\n",
       "<table border=\"1\" class=\"dataframe\">\n",
       "  <thead>\n",
       "    <tr style=\"text-align: right;\">\n",
       "      <th></th>\n",
       "      <th>CreditScore</th>\n",
       "      <th>Age</th>\n",
       "      <th>Tenure</th>\n",
       "      <th>Balance</th>\n",
       "      <th>NumOfProducts</th>\n",
       "      <th>HasCrCard</th>\n",
       "      <th>IsActiveMember</th>\n",
       "      <th>EstimatedSalary</th>\n",
       "      <th>Exited</th>\n",
       "      <th>Geography_Germany</th>\n",
       "      <th>Geography_Spain</th>\n",
       "      <th>Gender_Male</th>\n",
       "    </tr>\n",
       "  </thead>\n",
       "  <tbody>\n",
       "    <tr>\n",
       "      <th>551</th>\n",
       "      <td>674</td>\n",
       "      <td>47</td>\n",
       "      <td>6</td>\n",
       "      <td>106901.94</td>\n",
       "      <td>1</td>\n",
       "      <td>1</td>\n",
       "      <td>1</td>\n",
       "      <td>2079.20</td>\n",
       "      <td>1</td>\n",
       "      <td>1</td>\n",
       "      <td>0</td>\n",
       "      <td>1</td>\n",
       "    </tr>\n",
       "    <tr>\n",
       "      <th>6050</th>\n",
       "      <td>703</td>\n",
       "      <td>44</td>\n",
       "      <td>6</td>\n",
       "      <td>98862.54</td>\n",
       "      <td>1</td>\n",
       "      <td>1</td>\n",
       "      <td>0</td>\n",
       "      <td>151516.70</td>\n",
       "      <td>0</td>\n",
       "      <td>0</td>\n",
       "      <td>0</td>\n",
       "      <td>1</td>\n",
       "    </tr>\n",
       "    <tr>\n",
       "      <th>3759</th>\n",
       "      <td>721</td>\n",
       "      <td>40</td>\n",
       "      <td>9</td>\n",
       "      <td>118129.87</td>\n",
       "      <td>1</td>\n",
       "      <td>1</td>\n",
       "      <td>1</td>\n",
       "      <td>160277.65</td>\n",
       "      <td>0</td>\n",
       "      <td>0</td>\n",
       "      <td>0</td>\n",
       "      <td>1</td>\n",
       "    </tr>\n",
       "  </tbody>\n",
       "</table>\n",
       "</div>"
      ],
      "text/plain": [
       "      CreditScore  Age  Tenure    Balance  NumOfProducts  HasCrCard  \\\n",
       "551           674   47       6  106901.94              1          1   \n",
       "6050          703   44       6   98862.54              1          1   \n",
       "3759          721   40       9  118129.87              1          1   \n",
       "\n",
       "      IsActiveMember  EstimatedSalary  Exited  Geography_Germany  \\\n",
       "551                1          2079.20       1                  1   \n",
       "6050               0        151516.70       0                  0   \n",
       "3759               1        160277.65       0                  0   \n",
       "\n",
       "      Geography_Spain  Gender_Male  \n",
       "551                 0            1  \n",
       "6050                0            1  \n",
       "3759                0            1  "
      ]
     },
     "execution_count": 12,
     "metadata": {},
     "output_type": "execute_result"
    }
   ],
   "source": [
    "#check the overview of data after encodeing two categorical variables\n",
    "df.sample(3)"
   ]
  },
  {
   "cell_type": "code",
   "execution_count": 13,
   "id": "39a15d56",
   "metadata": {},
   "outputs": [
    {
     "name": "stdout",
     "output_type": "stream",
     "text": [
      "<class 'pandas.core.frame.DataFrame'>\n",
      "RangeIndex: 10000 entries, 0 to 9999\n",
      "Data columns (total 12 columns):\n",
      " #   Column             Non-Null Count  Dtype  \n",
      "---  ------             --------------  -----  \n",
      " 0   CreditScore        10000 non-null  int64  \n",
      " 1   Age                10000 non-null  int64  \n",
      " 2   Tenure             10000 non-null  int64  \n",
      " 3   Balance            10000 non-null  float64\n",
      " 4   NumOfProducts      10000 non-null  int64  \n",
      " 5   HasCrCard          10000 non-null  int64  \n",
      " 6   IsActiveMember     10000 non-null  int64  \n",
      " 7   EstimatedSalary    10000 non-null  float64\n",
      " 8   Exited             10000 non-null  int64  \n",
      " 9   Geography_Germany  10000 non-null  uint8  \n",
      " 10  Geography_Spain    10000 non-null  uint8  \n",
      " 11  Gender_Male        10000 non-null  uint8  \n",
      "dtypes: float64(2), int64(7), uint8(3)\n",
      "memory usage: 732.5 KB\n"
     ]
    }
   ],
   "source": [
    "#checking info (data tyes, null values)of the data\n",
    "df.info()"
   ]
  },
  {
   "cell_type": "code",
   "execution_count": 14,
   "id": "c9fdbce3",
   "metadata": {},
   "outputs": [
    {
     "data": {
      "text/plain": [
       "CreditScore          0\n",
       "Age                  0\n",
       "Tenure               0\n",
       "Balance              0\n",
       "NumOfProducts        0\n",
       "HasCrCard            0\n",
       "IsActiveMember       0\n",
       "EstimatedSalary      0\n",
       "Exited               0\n",
       "Geography_Germany    0\n",
       "Geography_Spain      0\n",
       "Gender_Male          0\n",
       "dtype: int64"
      ]
     },
     "execution_count": 14,
     "metadata": {},
     "output_type": "execute_result"
    }
   ],
   "source": [
    "#checking null values\n",
    "df.isnull().sum()"
   ]
  },
  {
   "cell_type": "code",
   "execution_count": 15,
   "id": "48f4d5ea",
   "metadata": {},
   "outputs": [
    {
     "data": {
      "text/plain": [
       "0"
      ]
     },
     "execution_count": 15,
     "metadata": {},
     "output_type": "execute_result"
    }
   ],
   "source": [
    "#checking duplicacy of data \n",
    "df.duplicated().sum()"
   ]
  },
  {
   "cell_type": "code",
   "execution_count": 16,
   "id": "3e478910",
   "metadata": {},
   "outputs": [
    {
     "data": {
      "text/plain": [
       "Index(['CreditScore', 'Age', 'Tenure', 'Balance', 'NumOfProducts', 'HasCrCard',\n",
       "       'IsActiveMember', 'EstimatedSalary', 'Exited', 'Geography_Germany',\n",
       "       'Geography_Spain', 'Gender_Male'],\n",
       "      dtype='object')"
      ]
     },
     "execution_count": 16,
     "metadata": {},
     "output_type": "execute_result"
    }
   ],
   "source": [
    "#checking columns name\n",
    "df.columns"
   ]
  },
  {
   "cell_type": "code",
   "execution_count": 17,
   "id": "50465d88",
   "metadata": {},
   "outputs": [],
   "source": [
    "#for doing train_test_split, separating dataframe \n",
    "X=df.drop(columns=['Exited'])\n",
    "y=df['Exited']"
   ]
  },
  {
   "cell_type": "code",
   "execution_count": 18,
   "id": "987ad403",
   "metadata": {},
   "outputs": [],
   "source": [
    "# performing train_test_split\n",
    "X_train, X_test, y_train, y_test=train_test_split(X,y, test_size=0.25, random_state=101)"
   ]
  },
  {
   "cell_type": "code",
   "execution_count": 19,
   "id": "3a253213",
   "metadata": {},
   "outputs": [
    {
     "name": "stdout",
     "output_type": "stream",
     "text": [
      "(7500, 11) (2500, 11)\n",
      "(7500,) (2500,)\n"
     ]
    }
   ],
   "source": [
    "#checking shape of the data after spliting\n",
    "print(X_train.shape, X_test.shape)\n",
    "print(y_train.shape, y_test.shape)"
   ]
  },
  {
   "cell_type": "code",
   "execution_count": 20,
   "id": "fecec3fa",
   "metadata": {},
   "outputs": [],
   "source": [
    "#scaling\n",
    "scaler=StandardScaler()\n",
    "X_train_trans=scaler.fit_transform(X_train)\n",
    "X_test_trans=scaler.fit_transform(X_test)"
   ]
  },
  {
   "cell_type": "code",
   "execution_count": 21,
   "id": "fec42ae4",
   "metadata": {},
   "outputs": [],
   "source": [
    "#building model\n",
    "model=Sequential()\n",
    "model.add(Dense(11, activation='relu', input_dim=11))\n",
    "model.add(Dense(11, activation='relu'))\n",
    "model.add(Dense(1, activation='sigmoid'))\n",
    "          "
   ]
  },
  {
   "cell_type": "code",
   "execution_count": 22,
   "id": "75658df0",
   "metadata": {},
   "outputs": [
    {
     "name": "stdout",
     "output_type": "stream",
     "text": [
      "Model: \"sequential\"\n",
      "_________________________________________________________________\n",
      " Layer (type)                Output Shape              Param #   \n",
      "=================================================================\n",
      " dense (Dense)               (None, 11)                132       \n",
      "                                                                 \n",
      " dense_1 (Dense)             (None, 11)                132       \n",
      "                                                                 \n",
      " dense_2 (Dense)             (None, 1)                 12        \n",
      "                                                                 \n",
      "=================================================================\n",
      "Total params: 276\n",
      "Trainable params: 276\n",
      "Non-trainable params: 0\n",
      "_________________________________________________________________\n"
     ]
    }
   ],
   "source": [
    "#summary of the model\n",
    "model.summary()"
   ]
  },
  {
   "cell_type": "code",
   "execution_count": 23,
   "id": "2d43e1d5",
   "metadata": {},
   "outputs": [],
   "source": [
    "#compile the model\n",
    "model.compile(loss='binary_crossentropy',optimizer='Adam', metrics=['accuracy'])"
   ]
  },
  {
   "cell_type": "code",
   "execution_count": 24,
   "id": "ecf83328",
   "metadata": {},
   "outputs": [
    {
     "name": "stdout",
     "output_type": "stream",
     "text": [
      "Epoch 1/100\n",
      "188/188 [==============================] - 4s 7ms/step - loss: 0.6711 - accuracy: 0.6165 - val_loss: 0.5079 - val_accuracy: 0.8087\n",
      "Epoch 2/100\n",
      "188/188 [==============================] - 1s 4ms/step - loss: 0.4853 - accuracy: 0.8027 - val_loss: 0.4490 - val_accuracy: 0.8153\n",
      "Epoch 3/100\n",
      "188/188 [==============================] - 1s 4ms/step - loss: 0.4522 - accuracy: 0.8100 - val_loss: 0.4236 - val_accuracy: 0.8233\n",
      "Epoch 4/100\n",
      "188/188 [==============================] - 1s 4ms/step - loss: 0.4386 - accuracy: 0.8140 - val_loss: 0.4104 - val_accuracy: 0.8307\n",
      "Epoch 5/100\n",
      "188/188 [==============================] - 1s 4ms/step - loss: 0.4303 - accuracy: 0.8180 - val_loss: 0.4022 - val_accuracy: 0.8333\n",
      "Epoch 6/100\n",
      "188/188 [==============================] - 1s 4ms/step - loss: 0.4241 - accuracy: 0.8195 - val_loss: 0.3955 - val_accuracy: 0.8360\n",
      "Epoch 7/100\n",
      "188/188 [==============================] - 1s 4ms/step - loss: 0.4184 - accuracy: 0.8205 - val_loss: 0.3894 - val_accuracy: 0.8360\n",
      "Epoch 8/100\n",
      "188/188 [==============================] - 1s 4ms/step - loss: 0.4116 - accuracy: 0.8193 - val_loss: 0.3826 - val_accuracy: 0.8360\n",
      "Epoch 9/100\n",
      "188/188 [==============================] - 1s 4ms/step - loss: 0.4052 - accuracy: 0.8200 - val_loss: 0.3772 - val_accuracy: 0.8393\n",
      "Epoch 10/100\n",
      "188/188 [==============================] - 1s 4ms/step - loss: 0.3968 - accuracy: 0.8268 - val_loss: 0.3711 - val_accuracy: 0.8467\n",
      "Epoch 11/100\n",
      "188/188 [==============================] - 1s 4ms/step - loss: 0.3872 - accuracy: 0.8377 - val_loss: 0.3629 - val_accuracy: 0.8520\n",
      "Epoch 12/100\n",
      "188/188 [==============================] - 1s 4ms/step - loss: 0.3789 - accuracy: 0.8443 - val_loss: 0.3554 - val_accuracy: 0.8580\n",
      "Epoch 13/100\n",
      "188/188 [==============================] - 1s 4ms/step - loss: 0.3715 - accuracy: 0.8467 - val_loss: 0.3511 - val_accuracy: 0.8573\n",
      "Epoch 14/100\n",
      "188/188 [==============================] - 1s 5ms/step - loss: 0.3654 - accuracy: 0.8510 - val_loss: 0.3459 - val_accuracy: 0.8627\n",
      "Epoch 15/100\n",
      "188/188 [==============================] - 1s 4ms/step - loss: 0.3610 - accuracy: 0.8500 - val_loss: 0.3445 - val_accuracy: 0.8640\n",
      "Epoch 16/100\n",
      "188/188 [==============================] - 1s 4ms/step - loss: 0.3577 - accuracy: 0.8543 - val_loss: 0.3415 - val_accuracy: 0.8667\n",
      "Epoch 17/100\n",
      "188/188 [==============================] - 1s 3ms/step - loss: 0.3550 - accuracy: 0.8533 - val_loss: 0.3399 - val_accuracy: 0.8673\n",
      "Epoch 18/100\n",
      "188/188 [==============================] - 1s 3ms/step - loss: 0.3527 - accuracy: 0.8563 - val_loss: 0.3388 - val_accuracy: 0.8687\n",
      "Epoch 19/100\n",
      "188/188 [==============================] - 1s 4ms/step - loss: 0.3511 - accuracy: 0.8557 - val_loss: 0.3376 - val_accuracy: 0.8667\n",
      "Epoch 20/100\n",
      "188/188 [==============================] - 1s 4ms/step - loss: 0.3497 - accuracy: 0.8572 - val_loss: 0.3399 - val_accuracy: 0.8647\n",
      "Epoch 21/100\n",
      "188/188 [==============================] - 1s 4ms/step - loss: 0.3497 - accuracy: 0.8582 - val_loss: 0.3382 - val_accuracy: 0.8660\n",
      "Epoch 22/100\n",
      "188/188 [==============================] - 1s 4ms/step - loss: 0.3470 - accuracy: 0.8587 - val_loss: 0.3391 - val_accuracy: 0.8593\n",
      "Epoch 23/100\n",
      "188/188 [==============================] - 1s 4ms/step - loss: 0.3465 - accuracy: 0.8595 - val_loss: 0.3361 - val_accuracy: 0.8673\n",
      "Epoch 24/100\n",
      "188/188 [==============================] - 1s 4ms/step - loss: 0.3454 - accuracy: 0.8585 - val_loss: 0.3383 - val_accuracy: 0.8647\n",
      "Epoch 25/100\n",
      "188/188 [==============================] - 1s 4ms/step - loss: 0.3443 - accuracy: 0.8583 - val_loss: 0.3354 - val_accuracy: 0.8640\n",
      "Epoch 26/100\n",
      "188/188 [==============================] - 1s 4ms/step - loss: 0.3438 - accuracy: 0.8598 - val_loss: 0.3369 - val_accuracy: 0.8647\n",
      "Epoch 27/100\n",
      "188/188 [==============================] - 1s 4ms/step - loss: 0.3436 - accuracy: 0.8592 - val_loss: 0.3372 - val_accuracy: 0.8620\n",
      "Epoch 28/100\n",
      "188/188 [==============================] - 1s 4ms/step - loss: 0.3427 - accuracy: 0.8590 - val_loss: 0.3381 - val_accuracy: 0.8620\n",
      "Epoch 29/100\n",
      "188/188 [==============================] - 1s 5ms/step - loss: 0.3415 - accuracy: 0.8587 - val_loss: 0.3360 - val_accuracy: 0.8653\n",
      "Epoch 30/100\n",
      "188/188 [==============================] - 1s 5ms/step - loss: 0.3415 - accuracy: 0.8587 - val_loss: 0.3378 - val_accuracy: 0.8613\n",
      "Epoch 31/100\n",
      "188/188 [==============================] - 1s 5ms/step - loss: 0.3412 - accuracy: 0.8580 - val_loss: 0.3387 - val_accuracy: 0.8633\n",
      "Epoch 32/100\n",
      "188/188 [==============================] - 1s 4ms/step - loss: 0.3411 - accuracy: 0.8600 - val_loss: 0.3404 - val_accuracy: 0.8633\n",
      "Epoch 33/100\n",
      "188/188 [==============================] - 1s 5ms/step - loss: 0.3409 - accuracy: 0.8583 - val_loss: 0.3393 - val_accuracy: 0.8627\n",
      "Epoch 34/100\n",
      "188/188 [==============================] - 1s 5ms/step - loss: 0.3401 - accuracy: 0.8568 - val_loss: 0.3405 - val_accuracy: 0.8600\n",
      "Epoch 35/100\n",
      "188/188 [==============================] - 1s 4ms/step - loss: 0.3393 - accuracy: 0.8587 - val_loss: 0.3377 - val_accuracy: 0.8593\n",
      "Epoch 36/100\n",
      "188/188 [==============================] - 1s 4ms/step - loss: 0.3387 - accuracy: 0.8607 - val_loss: 0.3378 - val_accuracy: 0.8620\n",
      "Epoch 37/100\n",
      "188/188 [==============================] - 1s 4ms/step - loss: 0.3385 - accuracy: 0.8600 - val_loss: 0.3400 - val_accuracy: 0.8653\n",
      "Epoch 38/100\n",
      "188/188 [==============================] - 1s 5ms/step - loss: 0.3381 - accuracy: 0.8590 - val_loss: 0.3399 - val_accuracy: 0.8600\n",
      "Epoch 39/100\n",
      "188/188 [==============================] - 1s 5ms/step - loss: 0.3379 - accuracy: 0.8595 - val_loss: 0.3389 - val_accuracy: 0.8620\n",
      "Epoch 40/100\n",
      "188/188 [==============================] - 1s 4ms/step - loss: 0.3371 - accuracy: 0.8583 - val_loss: 0.3390 - val_accuracy: 0.8647\n",
      "Epoch 41/100\n",
      "188/188 [==============================] - 1s 4ms/step - loss: 0.3366 - accuracy: 0.8595 - val_loss: 0.3381 - val_accuracy: 0.8633\n",
      "Epoch 42/100\n",
      "188/188 [==============================] - 1s 5ms/step - loss: 0.3367 - accuracy: 0.8607 - val_loss: 0.3378 - val_accuracy: 0.8633\n",
      "Epoch 43/100\n",
      "188/188 [==============================] - 1s 4ms/step - loss: 0.3360 - accuracy: 0.8588 - val_loss: 0.3384 - val_accuracy: 0.8633\n",
      "Epoch 44/100\n",
      "188/188 [==============================] - 1s 4ms/step - loss: 0.3348 - accuracy: 0.8593 - val_loss: 0.3394 - val_accuracy: 0.8647\n",
      "Epoch 45/100\n",
      "188/188 [==============================] - 1s 4ms/step - loss: 0.3356 - accuracy: 0.8587 - val_loss: 0.3402 - val_accuracy: 0.8633\n",
      "Epoch 46/100\n",
      "188/188 [==============================] - 1s 4ms/step - loss: 0.3350 - accuracy: 0.8597 - val_loss: 0.3384 - val_accuracy: 0.8633\n",
      "Epoch 47/100\n",
      "188/188 [==============================] - 1s 4ms/step - loss: 0.3345 - accuracy: 0.8600 - val_loss: 0.3395 - val_accuracy: 0.8640\n",
      "Epoch 48/100\n",
      "188/188 [==============================] - 1s 4ms/step - loss: 0.3339 - accuracy: 0.8602 - val_loss: 0.3390 - val_accuracy: 0.8653\n",
      "Epoch 49/100\n",
      "188/188 [==============================] - 1s 4ms/step - loss: 0.3338 - accuracy: 0.8613 - val_loss: 0.3401 - val_accuracy: 0.8600\n",
      "Epoch 50/100\n",
      "188/188 [==============================] - 1s 3ms/step - loss: 0.3335 - accuracy: 0.8607 - val_loss: 0.3380 - val_accuracy: 0.8640\n",
      "Epoch 51/100\n",
      "188/188 [==============================] - 1s 4ms/step - loss: 0.3336 - accuracy: 0.8607 - val_loss: 0.3400 - val_accuracy: 0.8667\n",
      "Epoch 52/100\n",
      "188/188 [==============================] - 1s 4ms/step - loss: 0.3329 - accuracy: 0.8593 - val_loss: 0.3420 - val_accuracy: 0.8653\n",
      "Epoch 53/100\n",
      "188/188 [==============================] - 1s 4ms/step - loss: 0.3324 - accuracy: 0.8613 - val_loss: 0.3404 - val_accuracy: 0.8667\n",
      "Epoch 54/100\n",
      "188/188 [==============================] - 1s 4ms/step - loss: 0.3324 - accuracy: 0.8597 - val_loss: 0.3402 - val_accuracy: 0.8593\n",
      "Epoch 55/100\n",
      "188/188 [==============================] - 1s 4ms/step - loss: 0.3319 - accuracy: 0.8620 - val_loss: 0.3397 - val_accuracy: 0.8627\n",
      "Epoch 56/100\n",
      "188/188 [==============================] - 1s 4ms/step - loss: 0.3323 - accuracy: 0.8603 - val_loss: 0.3398 - val_accuracy: 0.8647\n",
      "Epoch 57/100\n",
      "188/188 [==============================] - 1s 4ms/step - loss: 0.3320 - accuracy: 0.8588 - val_loss: 0.3398 - val_accuracy: 0.8687\n",
      "Epoch 58/100\n",
      "188/188 [==============================] - 1s 4ms/step - loss: 0.3310 - accuracy: 0.8593 - val_loss: 0.3424 - val_accuracy: 0.8607\n",
      "Epoch 59/100\n",
      "188/188 [==============================] - 1s 4ms/step - loss: 0.3314 - accuracy: 0.8613 - val_loss: 0.3411 - val_accuracy: 0.8633\n",
      "Epoch 60/100\n",
      "188/188 [==============================] - 1s 4ms/step - loss: 0.3314 - accuracy: 0.8620 - val_loss: 0.3401 - val_accuracy: 0.8680\n",
      "Epoch 61/100\n",
      "188/188 [==============================] - 1s 4ms/step - loss: 0.3307 - accuracy: 0.8598 - val_loss: 0.3427 - val_accuracy: 0.8673\n",
      "Epoch 62/100\n",
      "188/188 [==============================] - 1s 4ms/step - loss: 0.3302 - accuracy: 0.8592 - val_loss: 0.3413 - val_accuracy: 0.8693\n",
      "Epoch 63/100\n",
      "188/188 [==============================] - 1s 4ms/step - loss: 0.3302 - accuracy: 0.8612 - val_loss: 0.3398 - val_accuracy: 0.8647\n",
      "Epoch 64/100\n",
      "188/188 [==============================] - 1s 4ms/step - loss: 0.3296 - accuracy: 0.8622 - val_loss: 0.3426 - val_accuracy: 0.8607\n",
      "Epoch 65/100\n",
      "188/188 [==============================] - 1s 4ms/step - loss: 0.3297 - accuracy: 0.8592 - val_loss: 0.3422 - val_accuracy: 0.8673\n",
      "Epoch 66/100\n",
      "188/188 [==============================] - 1s 5ms/step - loss: 0.3290 - accuracy: 0.8618 - val_loss: 0.3463 - val_accuracy: 0.8640\n",
      "Epoch 67/100\n",
      "188/188 [==============================] - 1s 4ms/step - loss: 0.3300 - accuracy: 0.8617 - val_loss: 0.3416 - val_accuracy: 0.8647\n",
      "Epoch 68/100\n",
      "188/188 [==============================] - 1s 3ms/step - loss: 0.3287 - accuracy: 0.8640 - val_loss: 0.3400 - val_accuracy: 0.8680\n",
      "Epoch 69/100\n",
      "188/188 [==============================] - 1s 4ms/step - loss: 0.3285 - accuracy: 0.8615 - val_loss: 0.3437 - val_accuracy: 0.8627\n",
      "Epoch 70/100\n",
      "188/188 [==============================] - 1s 4ms/step - loss: 0.3287 - accuracy: 0.8622 - val_loss: 0.3443 - val_accuracy: 0.8640\n",
      "Epoch 71/100\n",
      "188/188 [==============================] - 1s 5ms/step - loss: 0.3286 - accuracy: 0.8618 - val_loss: 0.3435 - val_accuracy: 0.8633\n",
      "Epoch 72/100\n",
      "188/188 [==============================] - 1s 4ms/step - loss: 0.3286 - accuracy: 0.8602 - val_loss: 0.3422 - val_accuracy: 0.8660\n",
      "Epoch 73/100\n",
      "188/188 [==============================] - 1s 4ms/step - loss: 0.3280 - accuracy: 0.8633 - val_loss: 0.3432 - val_accuracy: 0.8673\n",
      "Epoch 74/100\n",
      "188/188 [==============================] - 1s 4ms/step - loss: 0.3279 - accuracy: 0.8633 - val_loss: 0.3449 - val_accuracy: 0.8660\n",
      "Epoch 75/100\n",
      "188/188 [==============================] - 1s 4ms/step - loss: 0.3280 - accuracy: 0.8620 - val_loss: 0.3416 - val_accuracy: 0.8673\n",
      "Epoch 76/100\n",
      "188/188 [==============================] - 1s 4ms/step - loss: 0.3273 - accuracy: 0.8625 - val_loss: 0.3425 - val_accuracy: 0.8667\n",
      "Epoch 77/100\n",
      "188/188 [==============================] - 1s 4ms/step - loss: 0.3271 - accuracy: 0.8608 - val_loss: 0.3419 - val_accuracy: 0.8653\n",
      "Epoch 78/100\n",
      "188/188 [==============================] - 1s 5ms/step - loss: 0.3274 - accuracy: 0.8625 - val_loss: 0.3411 - val_accuracy: 0.8673\n",
      "Epoch 79/100\n",
      "188/188 [==============================] - 1s 5ms/step - loss: 0.3265 - accuracy: 0.8613 - val_loss: 0.3433 - val_accuracy: 0.8640\n",
      "Epoch 80/100\n",
      "188/188 [==============================] - 1s 4ms/step - loss: 0.3270 - accuracy: 0.8625 - val_loss: 0.3420 - val_accuracy: 0.8653\n",
      "Epoch 81/100\n",
      "188/188 [==============================] - 1s 4ms/step - loss: 0.3265 - accuracy: 0.8628 - val_loss: 0.3423 - val_accuracy: 0.8660\n",
      "Epoch 82/100\n",
      "188/188 [==============================] - 1s 4ms/step - loss: 0.3264 - accuracy: 0.8613 - val_loss: 0.3454 - val_accuracy: 0.8667\n",
      "Epoch 83/100\n",
      "188/188 [==============================] - 1s 4ms/step - loss: 0.3265 - accuracy: 0.8612 - val_loss: 0.3432 - val_accuracy: 0.8653\n",
      "Epoch 84/100\n",
      "188/188 [==============================] - 1s 4ms/step - loss: 0.3269 - accuracy: 0.8625 - val_loss: 0.3413 - val_accuracy: 0.8660\n",
      "Epoch 85/100\n",
      "188/188 [==============================] - 1s 4ms/step - loss: 0.3262 - accuracy: 0.8632 - val_loss: 0.3414 - val_accuracy: 0.8673\n",
      "Epoch 86/100\n",
      "188/188 [==============================] - 1s 4ms/step - loss: 0.3258 - accuracy: 0.8622 - val_loss: 0.3407 - val_accuracy: 0.8673\n",
      "Epoch 87/100\n",
      "188/188 [==============================] - 1s 4ms/step - loss: 0.3255 - accuracy: 0.8627 - val_loss: 0.3429 - val_accuracy: 0.8633\n",
      "Epoch 88/100\n",
      "188/188 [==============================] - 1s 6ms/step - loss: 0.3255 - accuracy: 0.8593 - val_loss: 0.3395 - val_accuracy: 0.8667\n",
      "Epoch 89/100\n",
      "188/188 [==============================] - 1s 4ms/step - loss: 0.3251 - accuracy: 0.8638 - val_loss: 0.3427 - val_accuracy: 0.8667\n",
      "Epoch 90/100\n",
      "188/188 [==============================] - 1s 4ms/step - loss: 0.3248 - accuracy: 0.8628 - val_loss: 0.3413 - val_accuracy: 0.8673\n",
      "Epoch 91/100\n",
      "188/188 [==============================] - 1s 4ms/step - loss: 0.3253 - accuracy: 0.8645 - val_loss: 0.3433 - val_accuracy: 0.8647\n",
      "Epoch 92/100\n",
      "188/188 [==============================] - 1s 4ms/step - loss: 0.3249 - accuracy: 0.8627 - val_loss: 0.3419 - val_accuracy: 0.8653\n",
      "Epoch 93/100\n",
      "188/188 [==============================] - 1s 4ms/step - loss: 0.3241 - accuracy: 0.8622 - val_loss: 0.3410 - val_accuracy: 0.8660\n",
      "Epoch 94/100\n",
      "188/188 [==============================] - 1s 5ms/step - loss: 0.3240 - accuracy: 0.8642 - val_loss: 0.3454 - val_accuracy: 0.8640\n",
      "Epoch 95/100\n",
      "188/188 [==============================] - 1s 6ms/step - loss: 0.3249 - accuracy: 0.8640 - val_loss: 0.3405 - val_accuracy: 0.8673\n",
      "Epoch 96/100\n",
      "188/188 [==============================] - 1s 4ms/step - loss: 0.3242 - accuracy: 0.8628 - val_loss: 0.3417 - val_accuracy: 0.8660\n",
      "Epoch 97/100\n",
      "188/188 [==============================] - 1s 3ms/step - loss: 0.3242 - accuracy: 0.8647 - val_loss: 0.3429 - val_accuracy: 0.8660\n",
      "Epoch 98/100\n",
      "188/188 [==============================] - 1s 3ms/step - loss: 0.3239 - accuracy: 0.8635 - val_loss: 0.3441 - val_accuracy: 0.8660\n",
      "Epoch 99/100\n",
      "188/188 [==============================] - 1s 3ms/step - loss: 0.3239 - accuracy: 0.8632 - val_loss: 0.3419 - val_accuracy: 0.8660\n",
      "Epoch 100/100\n",
      "188/188 [==============================] - 0s 3ms/step - loss: 0.3237 - accuracy: 0.8640 - val_loss: 0.3436 - val_accuracy: 0.8660\n"
     ]
    }
   ],
   "source": [
    "#fit the model to train neural network\n",
    "history=model.fit(X_train_trans,y_train, epochs=100, validation_split=0.2)"
   ]
  },
  {
   "cell_type": "code",
   "execution_count": 25,
   "id": "9a2be574",
   "metadata": {},
   "outputs": [
    {
     "data": {
      "text/plain": [
       "[array([[-2.8178981e-01,  3.3928239e-01, -3.5228831e-01,  1.1420647e-01,\n",
       "          7.7238746e-02,  2.5668964e-01,  3.1167442e-02,  4.0935463e-01,\n",
       "         -2.2013578e-01,  3.3580044e-01,  4.0797763e-02],\n",
       "        [ 3.5679337e-02,  4.9850736e-02,  1.3650634e+00, -1.4236498e-01,\n",
       "          1.9038744e-01, -4.0935302e-01, -2.5547770e-01,  7.7277339e-01,\n",
       "          1.4742105e-01, -1.0005217e+00,  2.3107344e-01],\n",
       "        [ 4.5633832e-01, -1.7718455e-01, -1.7699629e-01, -2.7797091e-01,\n",
       "          8.7411135e-02, -2.5055838e-01, -5.0399158e-02,  3.4979212e-01,\n",
       "         -1.0231585e-01,  3.7210473e-01, -7.3545478e-02],\n",
       "        [-3.7125033e-01, -2.6445168e-01, -7.6148413e-02,  5.9504825e-01,\n",
       "         -2.7592921e-01, -9.5154673e-01,  5.9553123e-01,  8.8403939e-04,\n",
       "          5.2670825e-02,  3.1123894e-01,  6.0421479e-01],\n",
       "        [ 4.1482919e-01, -3.9448735e-01, -4.2625326e-01, -2.9467204e-01,\n",
       "         -1.1885082e+00,  5.3980734e-02,  8.9869857e-02, -1.7896414e-01,\n",
       "          1.2992465e+00, -7.1759278e-01,  8.4008527e-01],\n",
       "        [ 6.2586568e-02, -2.7295887e-01, -9.9157482e-02,  8.2499003e-01,\n",
       "         -7.6790877e-02,  7.1355766e-01, -5.4722112e-01,  5.3969562e-01,\n",
       "         -1.9342145e-01,  2.0034768e-01,  5.1496346e-03],\n",
       "        [-3.9941686e-01,  4.1515583e-01,  4.2453709e-01,  4.6120828e-01,\n",
       "         -6.6566235e-01,  2.9831920e-02, -4.3706763e-01, -1.6841802e-01,\n",
       "         -1.9733872e-01,  6.5410018e-02, -2.3569834e-01],\n",
       "        [-4.5128641e-01, -2.8626975e-01, -3.6681413e-03,  4.9430376e-01,\n",
       "         -3.2460876e-02,  5.1659659e-02,  1.1895376e-01,  3.5313711e-02,\n",
       "          4.4342613e-01,  1.5495771e-01,  9.6265718e-02],\n",
       "        [-8.7661736e-02, -4.9464568e-01,  1.5769123e-01,  1.2545765e-02,\n",
       "          1.8474533e-01, -2.8253493e-01, -4.0334263e-01, -4.2895746e-01,\n",
       "         -2.3022085e-01, -2.3789822e-01, -3.1461781e-01],\n",
       "        [-4.6009904e-01, -1.7302202e-01, -2.8098357e-01, -2.5966230e-01,\n",
       "          9.6544139e-02,  1.3716366e-02,  2.4836707e-01,  2.8310439e-01,\n",
       "          2.6199374e-01,  3.7901151e-01, -9.7039090e-03],\n",
       "        [ 3.0954045e-01,  6.1729407e-01, -9.5021799e-02, -3.7987933e-01,\n",
       "          4.7190160e-02,  1.8834122e-02,  1.8680611e-01,  4.3026686e-01,\n",
       "          6.0946207e-02, -8.6413465e-02, -5.0351102e-02]], dtype=float32),\n",
       " array([ 0.30131057,  0.5072489 , -0.23847495,  0.8112789 ,  0.33264947,\n",
       "         0.63673633,  0.3888035 , -0.03449382,  0.08229301, -0.10112236,\n",
       "        -0.02651867], dtype=float32)]"
      ]
     },
     "execution_count": 25,
     "metadata": {},
     "output_type": "execute_result"
    }
   ],
   "source": [
    "model.layers[0].get_weights()"
   ]
  },
  {
   "cell_type": "code",
   "execution_count": 26,
   "id": "9228f151",
   "metadata": {},
   "outputs": [
    {
     "data": {
      "text/plain": [
       "[array([[ 0.36010486,  0.2560354 ,  0.08378747, -0.8458074 ,  0.1564205 ,\n",
       "          0.07291158,  0.18118484, -0.07049038,  0.20741403, -1.0928417 ,\n",
       "         -0.42033666],\n",
       "        [ 0.19136329, -1.0908158 , -0.4695024 , -0.6213484 ,  0.4237977 ,\n",
       "          0.07277191,  0.38131043, -0.51867265, -0.04644449, -2.265335  ,\n",
       "          0.08725455],\n",
       "        [-0.84485227, -0.1449988 ,  0.6483597 ,  0.26301426,  0.50683564,\n",
       "         -0.01211048, -0.2458251 ,  0.03355318,  0.36720216, -0.1083908 ,\n",
       "          0.48690796],\n",
       "        [ 0.44033098, -0.27247494, -0.21123327,  0.30177823,  0.5565852 ,\n",
       "          0.08315432,  0.0346894 ,  0.49114776,  0.46827534, -0.10880046,\n",
       "          0.00925927],\n",
       "        [ 0.4518456 ,  0.16274323, -0.8512337 , -0.6697774 ,  0.00267927,\n",
       "         -0.46062794,  0.7102316 ,  0.2665229 ,  0.5451896 , -1.102841  ,\n",
       "          0.6808535 ],\n",
       "        [ 0.09468653, -0.21351539, -0.04964408, -0.93216425,  0.31443995,\n",
       "         -0.11938596, -0.4402386 , -0.36517808,  0.40391013,  0.13148813,\n",
       "          0.23346509],\n",
       "        [ 0.2782884 , -0.90498435,  0.00759355,  0.469519  ,  0.0726573 ,\n",
       "          0.37953934, -0.2546035 ,  0.603422  , -0.03534525, -0.750126  ,\n",
       "         -0.22822027],\n",
       "        [-0.35473874,  0.26306364,  0.81580585, -0.21569517,  0.751996  ,\n",
       "          0.6338914 ,  0.39931685,  0.24883729,  0.16253366,  0.67875797,\n",
       "          0.2998569 ],\n",
       "        [ 0.432035  ,  0.7176541 ,  0.21893631, -0.569833  , -0.12254976,\n",
       "         -0.14752947,  0.5612089 , -0.5162674 , -0.6064428 ,  0.19845316,\n",
       "          0.00735448],\n",
       "        [-0.24671036, -0.02236696,  0.6336648 ,  0.5853248 , -0.10945287,\n",
       "          0.46911877, -0.46488708,  0.12889433, -0.09497654, -1.7800122 ,\n",
       "          0.3958036 ],\n",
       "        [-0.7344594 ,  0.53321046, -0.8462532 , -0.22312811, -0.35647485,\n",
       "         -0.32591936,  0.1679059 , -0.5431854 , -0.22876509, -0.6935385 ,\n",
       "          0.39957175]], dtype=float32),\n",
       " array([ 0.76464015, -0.38970593,  0.4182277 , -0.28928927,  0.3298316 ,\n",
       "         0.46322456, -0.3396296 , -0.24579448, -0.15347816, -0.05329667,\n",
       "        -0.26918688], dtype=float32)]"
      ]
     },
     "execution_count": 26,
     "metadata": {},
     "output_type": "execute_result"
    }
   ],
   "source": [
    "model.layers[1].get_weights()"
   ]
  },
  {
   "cell_type": "code",
   "execution_count": 27,
   "id": "4b0bfa32",
   "metadata": {},
   "outputs": [
    {
     "data": {
      "text/plain": [
       "[array([[-1.3543788 ],\n",
       "        [ 1.4138768 ],\n",
       "        [-1.4346504 ],\n",
       "        [ 1.1100157 ],\n",
       "        [-0.45905766],\n",
       "        [-0.42406896],\n",
       "        [ 0.92768276],\n",
       "        [ 0.38852844],\n",
       "        [ 0.7042331 ],\n",
       "        [ 1.22007   ],\n",
       "        [ 0.61703557]], dtype=float32),\n",
       " array([-0.17475848], dtype=float32)]"
      ]
     },
     "execution_count": 27,
     "metadata": {},
     "output_type": "execute_result"
    }
   ],
   "source": [
    "model.layers[2].get_weights()"
   ]
  },
  {
   "cell_type": "code",
   "execution_count": 28,
   "id": "9ff38d39",
   "metadata": {},
   "outputs": [
    {
     "name": "stdout",
     "output_type": "stream",
     "text": [
      "79/79 [==============================] - 0s 2ms/step\n"
     ]
    },
    {
     "data": {
      "text/plain": [
       "array([[0.00739636],\n",
       "       [0.03254944],\n",
       "       [0.41173854],\n",
       "       ...,\n",
       "       [0.03069986],\n",
       "       [0.07750131],\n",
       "       [0.20939316]], dtype=float32)"
      ]
     },
     "execution_count": 28,
     "metadata": {},
     "output_type": "execute_result"
    }
   ],
   "source": [
    "model.predict(X_test_trans)"
   ]
  },
  {
   "cell_type": "code",
   "execution_count": 29,
   "id": "5ba29ce2",
   "metadata": {},
   "outputs": [
    {
     "name": "stdout",
     "output_type": "stream",
     "text": [
      "79/79 [==============================] - 0s 3ms/step\n"
     ]
    }
   ],
   "source": [
    "y_log=model.predict(X_test_trans)"
   ]
  },
  {
   "cell_type": "code",
   "execution_count": 30,
   "id": "971d1227",
   "metadata": {},
   "outputs": [],
   "source": [
    "y_pred=np.where(y_log>0.5,1,0)"
   ]
  },
  {
   "cell_type": "code",
   "execution_count": 31,
   "id": "b08b2700",
   "metadata": {},
   "outputs": [],
   "source": [
    "from sklearn.metrics import accuracy_score"
   ]
  },
  {
   "cell_type": "code",
   "execution_count": 42,
   "id": "1786d54b",
   "metadata": {},
   "outputs": [
    {
     "name": "stdout",
     "output_type": "stream",
     "text": [
      "Accuracy Score:  0.8628\n"
     ]
    }
   ],
   "source": [
    "print('Accuracy Score: ', accuracy_score(y_test, y_pred))"
   ]
  },
  {
   "cell_type": "code",
   "execution_count": 33,
   "id": "2264f1ba",
   "metadata": {},
   "outputs": [
    {
     "data": {
      "text/plain": [
       "<keras.callbacks.History at 0x1247a144760>"
      ]
     },
     "execution_count": 33,
     "metadata": {},
     "output_type": "execute_result"
    }
   ],
   "source": [
    "history"
   ]
  },
  {
   "cell_type": "code",
   "execution_count": 34,
   "id": "4a59054f",
   "metadata": {},
   "outputs": [
    {
     "data": {
      "text/plain": [
       "{'loss': [0.6711137294769287,\n",
       "  0.48531222343444824,\n",
       "  0.4521811008453369,\n",
       "  0.43858885765075684,\n",
       "  0.43026331067085266,\n",
       "  0.4241494834423065,\n",
       "  0.4183919131755829,\n",
       "  0.4116345942020416,\n",
       "  0.4051639437675476,\n",
       "  0.3968387544155121,\n",
       "  0.3872142732143402,\n",
       "  0.37885716557502747,\n",
       "  0.371461421251297,\n",
       "  0.365447074174881,\n",
       "  0.36101388931274414,\n",
       "  0.3576940894126892,\n",
       "  0.3550049364566803,\n",
       "  0.3527141511440277,\n",
       "  0.3511163294315338,\n",
       "  0.3497391641139984,\n",
       "  0.34970882534980774,\n",
       "  0.34700867533683777,\n",
       "  0.3465419411659241,\n",
       "  0.3454190790653229,\n",
       "  0.3442738354206085,\n",
       "  0.3438023328781128,\n",
       "  0.3435538709163666,\n",
       "  0.3427395522594452,\n",
       "  0.3414953947067261,\n",
       "  0.3414823114871979,\n",
       "  0.3411506712436676,\n",
       "  0.34114259481430054,\n",
       "  0.34093472361564636,\n",
       "  0.3400943875312805,\n",
       "  0.33925217390060425,\n",
       "  0.3386649787425995,\n",
       "  0.33845967054367065,\n",
       "  0.33812379837036133,\n",
       "  0.33787161111831665,\n",
       "  0.33713939785957336,\n",
       "  0.3365721106529236,\n",
       "  0.3366661071777344,\n",
       "  0.33599260449409485,\n",
       "  0.33484530448913574,\n",
       "  0.33562523126602173,\n",
       "  0.3349875807762146,\n",
       "  0.3345477879047394,\n",
       "  0.333893746137619,\n",
       "  0.3338432312011719,\n",
       "  0.3334967792034149,\n",
       "  0.3336370885372162,\n",
       "  0.3328661620616913,\n",
       "  0.33239781856536865,\n",
       "  0.3324333131313324,\n",
       "  0.33186671137809753,\n",
       "  0.33225566148757935,\n",
       "  0.3320455253124237,\n",
       "  0.33101317286491394,\n",
       "  0.3314248323440552,\n",
       "  0.3313601016998291,\n",
       "  0.3307093381881714,\n",
       "  0.33021628856658936,\n",
       "  0.33020609617233276,\n",
       "  0.3295813500881195,\n",
       "  0.3297232389450073,\n",
       "  0.3289661109447479,\n",
       "  0.330036997795105,\n",
       "  0.32867923378944397,\n",
       "  0.328527569770813,\n",
       "  0.3287314772605896,\n",
       "  0.3285674750804901,\n",
       "  0.3286450207233429,\n",
       "  0.3279629051685333,\n",
       "  0.3278510272502899,\n",
       "  0.32800033688545227,\n",
       "  0.3272916376590729,\n",
       "  0.32711461186408997,\n",
       "  0.32742786407470703,\n",
       "  0.32646191120147705,\n",
       "  0.32701459527015686,\n",
       "  0.32649797201156616,\n",
       "  0.3263598084449768,\n",
       "  0.3264616131782532,\n",
       "  0.3269422650337219,\n",
       "  0.3262285888195038,\n",
       "  0.3257807195186615,\n",
       "  0.3254905641078949,\n",
       "  0.3254913091659546,\n",
       "  0.3250707685947418,\n",
       "  0.3248395323753357,\n",
       "  0.3252573311328888,\n",
       "  0.3249463140964508,\n",
       "  0.32411181926727295,\n",
       "  0.32400134205818176,\n",
       "  0.32491374015808105,\n",
       "  0.32424139976501465,\n",
       "  0.3242480158805847,\n",
       "  0.32392576336860657,\n",
       "  0.32392096519470215,\n",
       "  0.32372957468032837],\n",
       " 'accuracy': [0.6165000200271606,\n",
       "  0.8026666641235352,\n",
       "  0.8100000023841858,\n",
       "  0.8140000104904175,\n",
       "  0.8180000185966492,\n",
       "  0.8195000290870667,\n",
       "  0.8205000162124634,\n",
       "  0.8193333148956299,\n",
       "  0.8199999928474426,\n",
       "  0.8268333077430725,\n",
       "  0.8376666903495789,\n",
       "  0.8443333506584167,\n",
       "  0.846666693687439,\n",
       "  0.8510000109672546,\n",
       "  0.8500000238418579,\n",
       "  0.8543333411216736,\n",
       "  0.8533333539962769,\n",
       "  0.856333315372467,\n",
       "  0.8556666374206543,\n",
       "  0.8571666479110718,\n",
       "  0.8581666946411133,\n",
       "  0.8586666584014893,\n",
       "  0.859499990940094,\n",
       "  0.8585000038146973,\n",
       "  0.8583333492279053,\n",
       "  0.8598333597183228,\n",
       "  0.85916668176651,\n",
       "  0.859000027179718,\n",
       "  0.8586666584014893,\n",
       "  0.8586666584014893,\n",
       "  0.8579999804496765,\n",
       "  0.8600000143051147,\n",
       "  0.8583333492279053,\n",
       "  0.8568333387374878,\n",
       "  0.8586666584014893,\n",
       "  0.8606666922569275,\n",
       "  0.8600000143051147,\n",
       "  0.859000027179718,\n",
       "  0.859499990940094,\n",
       "  0.8583333492279053,\n",
       "  0.859499990940094,\n",
       "  0.8606666922569275,\n",
       "  0.8588333129882812,\n",
       "  0.859333336353302,\n",
       "  0.8586666584014893,\n",
       "  0.859666645526886,\n",
       "  0.8600000143051147,\n",
       "  0.8601666688919067,\n",
       "  0.8613333106040955,\n",
       "  0.8606666922569275,\n",
       "  0.8606666922569275,\n",
       "  0.859333336353302,\n",
       "  0.8613333106040955,\n",
       "  0.859666645526886,\n",
       "  0.8619999885559082,\n",
       "  0.8603333234786987,\n",
       "  0.8588333129882812,\n",
       "  0.859333336353302,\n",
       "  0.8613333106040955,\n",
       "  0.8619999885559082,\n",
       "  0.8598333597183228,\n",
       "  0.85916668176651,\n",
       "  0.8611666560173035,\n",
       "  0.8621666431427002,\n",
       "  0.85916668176651,\n",
       "  0.8618333339691162,\n",
       "  0.8616666793823242,\n",
       "  0.8640000224113464,\n",
       "  0.8615000247955322,\n",
       "  0.8621666431427002,\n",
       "  0.8618333339691162,\n",
       "  0.8601666688919067,\n",
       "  0.8633333444595337,\n",
       "  0.8633333444595337,\n",
       "  0.8619999885559082,\n",
       "  0.862500011920929,\n",
       "  0.8608333468437195,\n",
       "  0.862500011920929,\n",
       "  0.8613333106040955,\n",
       "  0.862500011920929,\n",
       "  0.8628333210945129,\n",
       "  0.8613333106040955,\n",
       "  0.8611666560173035,\n",
       "  0.862500011920929,\n",
       "  0.8631666898727417,\n",
       "  0.8621666431427002,\n",
       "  0.862666666507721,\n",
       "  0.859333336353302,\n",
       "  0.8638333082199097,\n",
       "  0.8628333210945129,\n",
       "  0.8644999861717224,\n",
       "  0.862666666507721,\n",
       "  0.8621666431427002,\n",
       "  0.8641666769981384,\n",
       "  0.8640000224113464,\n",
       "  0.8628333210945129,\n",
       "  0.8646666407585144,\n",
       "  0.8634999990463257,\n",
       "  0.8631666898727417,\n",
       "  0.8640000224113464],\n",
       " 'val_loss': [0.5078502297401428,\n",
       "  0.44903063774108887,\n",
       "  0.4236447811126709,\n",
       "  0.4103967249393463,\n",
       "  0.4021664261817932,\n",
       "  0.39549189805984497,\n",
       "  0.38939496874809265,\n",
       "  0.38255301117897034,\n",
       "  0.3772147595882416,\n",
       "  0.37111610174179077,\n",
       "  0.36286211013793945,\n",
       "  0.3554323613643646,\n",
       "  0.3510510325431824,\n",
       "  0.3459019660949707,\n",
       "  0.34450235962867737,\n",
       "  0.34154850244522095,\n",
       "  0.33989447355270386,\n",
       "  0.3387734889984131,\n",
       "  0.3375825881958008,\n",
       "  0.33992037177085876,\n",
       "  0.3382033705711365,\n",
       "  0.33907550573349,\n",
       "  0.336082398891449,\n",
       "  0.3382578194141388,\n",
       "  0.3353898823261261,\n",
       "  0.33685117959976196,\n",
       "  0.3371534049510956,\n",
       "  0.3380787670612335,\n",
       "  0.33597299456596375,\n",
       "  0.3377612829208374,\n",
       "  0.3386974334716797,\n",
       "  0.3403528034687042,\n",
       "  0.339293509721756,\n",
       "  0.3405255675315857,\n",
       "  0.33765318989753723,\n",
       "  0.33784550428390503,\n",
       "  0.34003427624702454,\n",
       "  0.33994972705841064,\n",
       "  0.33892038464546204,\n",
       "  0.3389657139778137,\n",
       "  0.33806049823760986,\n",
       "  0.3377596139907837,\n",
       "  0.3383967876434326,\n",
       "  0.33941227197647095,\n",
       "  0.340164452791214,\n",
       "  0.3384020924568176,\n",
       "  0.33949488401412964,\n",
       "  0.3389822244644165,\n",
       "  0.3401073217391968,\n",
       "  0.3379509747028351,\n",
       "  0.33996883034706116,\n",
       "  0.3420449197292328,\n",
       "  0.34036773443222046,\n",
       "  0.34024590253829956,\n",
       "  0.3396983742713928,\n",
       "  0.33975160121917725,\n",
       "  0.3398498296737671,\n",
       "  0.34236738085746765,\n",
       "  0.3410562574863434,\n",
       "  0.34005799889564514,\n",
       "  0.3427095413208008,\n",
       "  0.34132832288742065,\n",
       "  0.33981308341026306,\n",
       "  0.34255146980285645,\n",
       "  0.3421802520751953,\n",
       "  0.3463099002838135,\n",
       "  0.34159407019615173,\n",
       "  0.3399970829486847,\n",
       "  0.34371280670166016,\n",
       "  0.344325453042984,\n",
       "  0.3435305655002594,\n",
       "  0.342203825712204,\n",
       "  0.3431621789932251,\n",
       "  0.3449055552482605,\n",
       "  0.3415607810020447,\n",
       "  0.342538058757782,\n",
       "  0.3418785333633423,\n",
       "  0.34113553166389465,\n",
       "  0.3433026969432831,\n",
       "  0.34201082587242126,\n",
       "  0.3423466682434082,\n",
       "  0.34535107016563416,\n",
       "  0.34315821528434753,\n",
       "  0.34132519364356995,\n",
       "  0.34137317538261414,\n",
       "  0.340701162815094,\n",
       "  0.34285619854927063,\n",
       "  0.3395475149154663,\n",
       "  0.3427359163761139,\n",
       "  0.3412815034389496,\n",
       "  0.3432786762714386,\n",
       "  0.3419185280799866,\n",
       "  0.34095215797424316,\n",
       "  0.34537166357040405,\n",
       "  0.34053245186805725,\n",
       "  0.34170374274253845,\n",
       "  0.3429434299468994,\n",
       "  0.3441234230995178,\n",
       "  0.34188908338546753,\n",
       "  0.34356793761253357],\n",
       " 'val_accuracy': [0.8086666464805603,\n",
       "  0.8153333067893982,\n",
       "  0.8233333230018616,\n",
       "  0.8306666612625122,\n",
       "  0.8333333134651184,\n",
       "  0.8360000252723694,\n",
       "  0.8360000252723694,\n",
       "  0.8360000252723694,\n",
       "  0.8393333554267883,\n",
       "  0.846666693687439,\n",
       "  0.8519999980926514,\n",
       "  0.8579999804496765,\n",
       "  0.8573333621025085,\n",
       "  0.862666666507721,\n",
       "  0.8640000224113464,\n",
       "  0.8666666746139526,\n",
       "  0.8673333525657654,\n",
       "  0.8686666488647461,\n",
       "  0.8666666746139526,\n",
       "  0.8646666407585144,\n",
       "  0.8659999966621399,\n",
       "  0.859333336353302,\n",
       "  0.8673333525657654,\n",
       "  0.8646666407585144,\n",
       "  0.8640000224113464,\n",
       "  0.8646666407585144,\n",
       "  0.8619999885559082,\n",
       "  0.8619999885559082,\n",
       "  0.8653333187103271,\n",
       "  0.8613333106040955,\n",
       "  0.8633333444595337,\n",
       "  0.8633333444595337,\n",
       "  0.862666666507721,\n",
       "  0.8600000143051147,\n",
       "  0.859333336353302,\n",
       "  0.8619999885559082,\n",
       "  0.8653333187103271,\n",
       "  0.8600000143051147,\n",
       "  0.8619999885559082,\n",
       "  0.8646666407585144,\n",
       "  0.8633333444595337,\n",
       "  0.8633333444595337,\n",
       "  0.8633333444595337,\n",
       "  0.8646666407585144,\n",
       "  0.8633333444595337,\n",
       "  0.8633333444595337,\n",
       "  0.8640000224113464,\n",
       "  0.8653333187103271,\n",
       "  0.8600000143051147,\n",
       "  0.8640000224113464,\n",
       "  0.8666666746139526,\n",
       "  0.8653333187103271,\n",
       "  0.8666666746139526,\n",
       "  0.859333336353302,\n",
       "  0.862666666507721,\n",
       "  0.8646666407585144,\n",
       "  0.8686666488647461,\n",
       "  0.8606666922569275,\n",
       "  0.8633333444595337,\n",
       "  0.8679999709129333,\n",
       "  0.8673333525657654,\n",
       "  0.8693333268165588,\n",
       "  0.8646666407585144,\n",
       "  0.8606666922569275,\n",
       "  0.8673333525657654,\n",
       "  0.8640000224113464,\n",
       "  0.8646666407585144,\n",
       "  0.8679999709129333,\n",
       "  0.862666666507721,\n",
       "  0.8640000224113464,\n",
       "  0.8633333444595337,\n",
       "  0.8659999966621399,\n",
       "  0.8673333525657654,\n",
       "  0.8659999966621399,\n",
       "  0.8673333525657654,\n",
       "  0.8666666746139526,\n",
       "  0.8653333187103271,\n",
       "  0.8673333525657654,\n",
       "  0.8640000224113464,\n",
       "  0.8653333187103271,\n",
       "  0.8659999966621399,\n",
       "  0.8666666746139526,\n",
       "  0.8653333187103271,\n",
       "  0.8659999966621399,\n",
       "  0.8673333525657654,\n",
       "  0.8673333525657654,\n",
       "  0.8633333444595337,\n",
       "  0.8666666746139526,\n",
       "  0.8666666746139526,\n",
       "  0.8673333525657654,\n",
       "  0.8646666407585144,\n",
       "  0.8653333187103271,\n",
       "  0.8659999966621399,\n",
       "  0.8640000224113464,\n",
       "  0.8673333525657654,\n",
       "  0.8659999966621399,\n",
       "  0.8659999966621399,\n",
       "  0.8659999966621399,\n",
       "  0.8659999966621399,\n",
       "  0.8659999966621399]}"
      ]
     },
     "execution_count": 34,
     "metadata": {},
     "output_type": "execute_result"
    }
   ],
   "source": [
    "history.history"
   ]
  },
  {
   "cell_type": "code",
   "execution_count": 35,
   "id": "80351a77",
   "metadata": {},
   "outputs": [
    {
     "data": {
      "text/plain": [
       "[<matplotlib.lines.Line2D at 0x1247ce55940>]"
      ]
     },
     "execution_count": 35,
     "metadata": {},
     "output_type": "execute_result"
    },
    {
     "data": {
      "image/png": "[encoded data removed]",
      "text/plain": [
       "<Figure size 640x480 with 1 Axes>"
      ]
     },
     "metadata": {},
     "output_type": "display_data"
    }
   ],
   "source": [
    "plt.plot(history.history['loss'])"
   ]
  },
  {
   "cell_type": "code",
   "execution_count": 36,
   "id": "1820116d",
   "metadata": {},
   "outputs": [
    {
     "data": {
      "text/plain": [
       "[<matplotlib.lines.Line2D at 0x1247e01f2e0>]"
      ]
     },
     "execution_count": 36,
     "metadata": {},
     "output_type": "execute_result"
    },
    {
     "data": {
      "image/png": "[encoded data removed]",
      "text/plain": [
       "<Figure size 640x480 with 1 Axes>"
      ]
     },
     "metadata": {},
     "output_type": "display_data"
    }
   ],
   "source": [
    "plt.plot(history.history['val_loss'])"
   ]
  },
  {
   "cell_type": "code",
   "execution_count": 37,
   "id": "f9f165df",
   "metadata": {},
   "outputs": [
    {
     "data": {
      "text/plain": [
       "[<matplotlib.lines.Line2D at 0x1247cef6d90>]"
      ]
     },
     "execution_count": 37,
     "metadata": {},
     "output_type": "execute_result"
    },
    {
     "data": {
      "image/png": "[encoded data removed]",
      "text/plain": [
       "<Figure size 640x480 with 1 Axes>"
      ]
     },
     "metadata": {},
     "output_type": "display_data"
    }
   ],
   "source": [
    "plt.plot(history.history['loss'])\n",
    "plt.plot(history.history['val_loss'])"
   ]
  },
  {
   "cell_type": "code",
   "execution_count": 38,
   "id": "390120f1",
   "metadata": {},
   "outputs": [
    {
     "data": {
      "text/plain": [
       "[<matplotlib.lines.Line2D at 0x1247cf5ecd0>]"
      ]
     },
     "execution_count": 38,
     "metadata": {},
     "output_type": "execute_result"
    },
    {
     "data": {
      "image/png": "[encoded data removed]",
      "text/plain": [
       "<Figure size 640x480 with 1 Axes>"
      ]
     },
     "metadata": {},
     "output_type": "display_data"
    }
   ],
   "source": [
    "plt.plot(history.history['accuracy'])\n",
    "plt.plot(history.history['val_accuracy'])"
   ]
  }
 ],
 "metadata": {
  "kernelspec": {
   "display_name": "Python 3 (ipykernel)",
   "language": "python",
   "name": "python3"
  },
  "language_info": {
   "codemirror_mode": {
    "name": "ipython",
    "version": 3
   },
   "file_extension": ".py",
   "mimetype": "text/x-python",
   "name": "python",
   "nbconvert_exporter": "python",
   "pygments_lexer": "ipython3",
   "version": "3.9.12"
  }
 },
 "nbformat": 4,
 "nbformat_minor": 5
}
